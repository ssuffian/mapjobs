{
 "metadata": {
  "name": "",
  "signature": "sha256:50aa2375508b7b9b2c716de248e1cef59f53f9b7494d255d70e741da1122a829"
 },
 "nbformat": 3,
 "nbformat_minor": 0,
 "worksheets": [
  {
   "cells": [
    {
     "cell_type": "code",
     "collapsed": false,
     "input": [
      "import urllib, urllib2\n",
      "import csv\n",
      "from bs4 import BeautifulSoup\n",
      "\n",
      "import httplib2\n",
      "from apiclient.discovery import build\n",
      "from oauth2client.client import OAuth2WebServerFlow\n",
      "\n",
      "import time\n",
      "import datetime\n",
      "import re\n",
      "from re import sub\n",
      "from decimal import Decimal"
     ],
     "language": "python",
     "metadata": {},
     "outputs": [],
     "prompt_number": 10
    },
    {
     "cell_type": "code",
     "collapsed": false,
     "input": [
      "def num_to_edu(edu_num):\n",
      "    '''\n",
      "    Converts a range of numbers to education categories.\n",
      "    0 -> High School\n",
      "    1 -> Associates Degree\n",
      "    '''\n",
      "    if edu_num==0:\n",
      "        edu=\"High-School\"\n",
      "    elif edu_num==1:\n",
      "        edu=\"Associate-Degree\"\n",
      "    return edu\n",
      "\n",
      "def num_to_cat(cat_num):\n",
      "    '''\n",
      "    Converts a range of numbers to job categories.\n",
      "    0 -> Biotech RD Science\n",
      "    1 -> Building, Construction, Skilled Trades\n",
      "    2 -> Customer Support/Client Care\n",
      "    3 -> Engineering\n",
      "    4 -> Food Services/Hospitality\n",
      "    5 -> Human Resources\n",
      "    6 -> Installation/Maintenence/Repair\n",
      "    7 -> Logistics/Transportation\n",
      "    8 -> Manufacturing/Production/Operations\n",
      "    9 -> Medical/Health\n",
      "    10 -> Project/Program Management\n",
      "    11 -> Quality Assurance/Safety\n",
      "    12 -> Security/Protective Services\n",
      "    13 -> Other\n",
      "    '''\n",
      "    if m==0:\n",
      "        cat=\"Biotech-R-D-Science\"\n",
      "    elif m==1:\n",
      "        cat=\"Building-Construction-Skilled-Trades\"\n",
      "    elif m==2:\n",
      "        cat=\"Customer-Support-Client-Care\"\n",
      "    elif m==3:\n",
      "        cat=\"Engineering\"\n",
      "    elif m==4:\n",
      "        cat=\"Food-Services-Hospitality\"\n",
      "    elif m==5:\n",
      "        cat=\"Human-Resources\"\n",
      "    elif m==6:\n",
      "        cat=\"Installation-Maintenance-Repair-search\"\n",
      "    elif m==7:\n",
      "        cat=\"Logistics-Transportation\"\n",
      "    elif m==8:\n",
      "        cat=\"Manufacturing-Production-Operations\"\n",
      "    elif m==9:\n",
      "        cat=\"Medical-Health\"\n",
      "    elif m==10:\n",
      "        cat=\"Project-Program-Management\"\n",
      "    elif m==11:\n",
      "        cat=\"Quality-Assurance-Safety\"\n",
      "    elif m==12:\n",
      "        cat=\"Security-Protective-Services\"\n",
      "    else:\n",
      "        cat=\"other\"\n",
      "    return cat"
     ],
     "language": "python",
     "metadata": {},
     "outputs": [],
     "prompt_number": 3
    },
    {
     "cell_type": "code",
     "collapsed": false,
     "input": [
      "def remove_jobs_in_area_and_create_array(list_soup):\n",
      "    new_list_soup = []\n",
      "    for row in list_soup.findAll('tr'):\n",
      "        try:\n",
      "            if 'add' in row['class']:\n",
      "                return new_list_soup\n",
      "            elif 'odd' in row['class'] or 'even' in row['class']:\n",
      "                new_list_soup.append(row)\n",
      "                #print get_job_title(row)\n",
      "        except:\n",
      "            pass\n",
      "    return new_list_soup\n",
      "\n",
      "def get_job_title(job_soup):\n",
      "    job_soup_title = job_soup.find(class_='jobTitleContainer').find('a',class_='slJobTitle fnt11').string\n",
      "    return job_soup_title\n",
      "\n",
      "def get_job_link(job_soup):\n",
      "    job_soup_link = job_soup.find(class_='jobTitleContainer').find('a',class_='slJobTitle fnt11')['href']\n",
      "    return job_soup_link\n",
      "\n",
      "def get_job_location(job_soup):\n",
      "    job_soup_location = job_soup.find(class_='jobLocationSingleLine')\n",
      "    if job_soup_location.find('a'):\n",
      "        return job_soup_location.find('a')['title']\n",
      "    else:\n",
      "        return job_soup_location.string\n",
      "    \n",
      "def get_job_state(job_location):\n",
      "    state = job_location.replace(\" \",\"\").rsplit(\",\")[-1]\n",
      "    if re.match(\"^[A-Za-z0-9_-]*$\",state):\n",
      "        return state\n",
      "    return 'N/A'\n",
      "    \n",
      "def get_job_company(job_soup):\n",
      "    job_soup_company = job_soup.find(class_='companyContainer').find('a')['title']\n",
      "    return job_soup_company\n",
      "\n",
      "def get_job_salary(job_soup,min_or_max):\n",
      "    job_soup_salary = job_soup.find(class_='companyContainer').find(class_='fnt13')\n",
      "    if job_soup_salary:\n",
      "        job_soup_salary=job_soup_salary.string.strip()\n",
      "    \n",
      "        salary_range=job_soup_salary.split(\"-\")\n",
      "\n",
      "        if len(salary_range)==1 or 'min' in min_or_max:\n",
      "            return  str(Decimal(sub(r'[^\\d.]', '', salary_range[0].replace(' ',''))))\n",
      "        elif 'max' in min_or_max:\n",
      "            str(Decimal(sub(r'[^\\d.]', '', salary_range[1].replace(' ',''))))\n",
      "    else:\n",
      "        return '0'\n",
      "    \n",
      "def get_job_data(job_soup,cat,edu):\n",
      "    job_dict = {}\n",
      "    job_dict['category'] = cat\n",
      "    job_dict['education'] = edu\n",
      "    job_dict['title'] =  get_job_title(job_soup).replace(\"'\",\"''\").encode('ascii','ignore')\n",
      "    job_dict['link'] = get_job_link(job_soup).replace(\"'\",\"%27\")\n",
      "    job_dict['location'] = get_job_location(job_soup).replace(\"'\",\"''\")\n",
      "    job_dict['state'] = get_job_state(job_dict['location'])\n",
      "    job_dict['company'] = get_job_company(job_soup).replace(\"'\",\"''\")\n",
      "    \n",
      "    job_dict['salary_min'] = get_job_salary(job_soup,'min')\n",
      "    job_dict['salary_max'] = get_job_salary(job_soup,'max')\n",
      "    return job_dict"
     ],
     "language": "python",
     "metadata": {},
     "outputs": [],
     "prompt_number": 4
    },
    {
     "cell_type": "code",
     "collapsed": false,
     "input": [
      "def create_new_mapjobs_table(service,table_name):\n",
      "    body = { # Represents a table. Specifies the name, whether it is exportable, description, attribution, and attribution link.\n",
      "        \"kind\": \"fusiontables#table\", # Type name: a template for an individual table\n",
      "        \"isExportable\": True, # Variable for whether table is exportable.\n",
      "        \"tableId\": 'MapJobs', # Encrypted unique alphanumeric identifier for the table.\n",
      "        \"columns\": [ # Columns in the table.\n",
      "          { # Specifies the id, name and type of a column in a table.\n",
      "              \"kind\": \"fusiontables#column\", # Type name: a template for an individual column.\n",
      "              \"columnId\": 1, # Identifier for the column.\n",
      "              \"name\": \"Title\", # Required name of the column.\n",
      "              \"type\": \"STRING\", # Required type of the column ['NUMBER','STRING','LOCATION','DATE/TIME'].\n",
      "              \"description\": \"Job Title\", # Optional column description.\n",
      "            },\n",
      "          { # Specifies the id, name and type of a column in a table.\n",
      "              \"kind\": \"fusiontables#column\", # Type name: a template for an individual column.\n",
      "              \"columnId\": 2, # Identifier for the column.\n",
      "              \"name\": \"Company\", # Required name of the column.\n",
      "              \"type\": \"STRING\", # Required type of the column ['NUMBER','STRING','LOCATION','DATE/TIME'].\n",
      "              \"description\": \"Company Name\", # Optional column description.\n",
      "            },\n",
      "          { # Specifies the id, name and type of a column in a table.\n",
      "              \"kind\": \"fusiontables#column\", # Type name: a template for an individual column.\n",
      "              \"columnId\": 3, # Identifier for the column.\n",
      "              \"name\": \"Location\", # Required name of the column.\n",
      "              \"type\": \"LOCATION\", # Required type of the column ['NUMBER','STRING','LOCATION','DATE/TIME'].\n",
      "              \"description\": \"Job Location\", # Optional column description.\n",
      "            },\n",
      "          { # Specifies the id, name and type of a column in a table.\n",
      "              \"kind\": \"fusiontables#column\", # Type name: a template for an individual column.\n",
      "              \"columnId\": 3, # Identifier for the column.\n",
      "              \"name\": \"State\", # Required name of the column.\n",
      "              \"type\": \"STRING\", # Required type of the column ['NUMBER','STRING','LOCATION','DATE/TIME'].\n",
      "              \"description\": \"Job State\", # Optional column description.\n",
      "            },\n",
      "          { # Specifies the id, name and type of a column in a table.\n",
      "              \"kind\": \"fusiontables#column\", # Type name: a template for an individual column.\n",
      "              \"columnId\": 3, # Identifier for the column.\n",
      "              \"name\": \"Salary\", # Required name of the column.\n",
      "              \"type\": \"NUMBER\", # Required type of the column ['NUMBER','STRING','LOCATION','DATE/TIME'].\n",
      "              \"description\": \"Salary Range\", # Optional column description.\n",
      "            },\n",
      "          { # Specifies the id, name and type of a column in a table.\n",
      "              \"kind\": \"fusiontables#column\", # Type name: a template for an individual column.\n",
      "              \"columnId\": 3, # Identifier for the column.\n",
      "              \"name\": \"Page\", # Required name of the column.\n",
      "              \"type\": \"STRING\", # Required type of the column ['NUMBER','STRING','LOCATION','DATE/TIME'].\n",
      "              \"description\": \"Link to Job Post\", # Optional column description.\n",
      "            },\n",
      "          { # Specifies the id, name and type of a column in a table.\n",
      "              \"kind\": \"fusiontables#column\", # Type name: a template for an individual column.\n",
      "              \"columnId\": 3, # Identifier for the column.\n",
      "              \"name\": \"Category\", # Required name of the column.\n",
      "              \"type\": \"STRING\", # Required type of the column ['NUMBER','STRING','LOCATION','DATE/TIME'].\n",
      "              \"description\": \"Job Category\", # Optional column description.\n",
      "            },\n",
      "          { # Specifies the id, name and type of a column in a table.\n",
      "              \"kind\": \"fusiontables#column\", # Type name: a template for an individual column.\n",
      "              \"columnId\": 3, # Identifier for the column.\n",
      "              \"name\": \"Education\", # Required name of the column.\n",
      "              \"type\": \"STRING\", # Required type of the column ['NUMBER','STRING','LOCATION','DATE/TIME'].\n",
      "              \"description\": \"Job Education\", # Optional column description.\n",
      "            },\n",
      "        ],\n",
      "        \"name\": table_name, # Name assigned to a table.\n",
      "        }\n",
      "    service.table().insert(body=body).execute()\n",
      "\n",
      "def monster_link_to_fusion_table(service,link,cat,edu):\n",
      "    page = urllib2.urlopen(link)\n",
      "    value = page.read()\n",
      "    soup = BeautifulSoup(value)\n",
      "    list_soup = soup.find(class_='listingsTable')\n",
      "    job_soup_array = remove_jobs_in_area_and_create_array(list_soup)\n",
      "    sql_command = ''\n",
      "    for job_soup in job_soup_array[:15]:\n",
      "        single_job = get_job_data(job_soup,cat,edu)\n",
      "        SQL_vals = \"('\"+single_job['title']+\"','\"+single_job['company']+\"','\"+single_job['location']+\"','\"+single_job['state']+\"','\"+single_job['salary_min']+\"','\"+single_job['link']+\"','\"+single_job['category']+\"','\"+single_job['education']+\"')\"\n",
      "        sql_command = sql_command + \"INSERT INTO \"+table_id+\" \"+SQL_columns+\" VALUES \"+SQL_vals+\";\"\n",
      "    request = service.query().sql(sql=sql_command)\n",
      "    response = request.execute()\n",
      "\n",
      "    sql_command = ''\n",
      "    for job_soup in job_soup_array[15:]:\n",
      "        single_job = get_job_data(job_soup,cat,edu)\n",
      "        SQL_vals = \"('\"+single_job['title']+\"','\"+single_job['company']+\"','\"+single_job['location']+\"','\"+single_job['state']+\"','\"+single_job['salary_min']+\"','\"+single_job['link']+\"','\"+single_job['category']+\"','\"+single_job['education']+\"')\"\n",
      "        sql_command = sql_command + \"INSERT INTO \"+table_id+\" \"+SQL_columns+\" VALUES \"+SQL_vals+\";\"\n",
      "    request = service.query().sql(sql=sql_command)\n",
      "    response = request.execute()"
     ],
     "language": "python",
     "metadata": {},
     "outputs": [],
     "prompt_number": 5
    },
    {
     "cell_type": "code",
     "collapsed": false,
     "input": [
      "import yaml\n",
      "with open('../properties.yaml') as f:\n",
      "    cf = yaml.safe_load(f)"
     ],
     "language": "python",
     "metadata": {},
     "outputs": [],
     "prompt_number": 6
    },
    {
     "cell_type": "code",
     "collapsed": false,
     "input": [
      "#Step 1\n",
      "client_id = cf['client_id']\n",
      "client_secret = cf['client_secret']\n",
      "api_key = cf['api_key']\n",
      "redirect_uri = cf['redirect_uri']\n",
      "scope = cf['scope']\n",
      "flow = OAuth2WebServerFlow(client_id=client_id,\n",
      "                           client_secret=client_secret,\n",
      "                           scope=scope,\n",
      "                           redirect_uri=redirect_uri)\n",
      "auth_uri = flow.step1_get_authorize_url()\n",
      "print auth_uri"
     ],
     "language": "python",
     "metadata": {},
     "outputs": [
      {
       "output_type": "stream",
       "stream": "stdout",
       "text": [
        "https://accounts.google.com/o/oauth2/auth?scope=https%3A%2F%2Fwww.googleapis.com%2Fauth%2Ffusiontables&redirect_uri=http%3A%2F%2Flocalhost&response_type=code&client_id=420304979532-g8gr00jqapdhuqu84mmb49uj9ngcgig9.apps.googleusercontent.com&access_type=offline\n"
       ]
      }
     ],
     "prompt_number": 7
    },
    {
     "cell_type": "code",
     "collapsed": false,
     "input": [
      "#Step 2\n",
      "code = '4/fgJn2kjZDA9LWJUfBbJYDDnzQvBn6Mq4RtMUtE8U798.oqDJmPNztisQJvIeHux6iLYbzZuklgI'\n",
      "credentials = flow.step2_exchange(code)\n",
      "http = httplib2.Http()\n",
      "http = credentials.authorize(http)\n",
      "service = build('fusiontables', 'v2',http=http)\n",
      "create_new_mapjobs_table(service,'American Job Mapping')\n",
      "request = service.table().list()\n",
      "response = request.execute()\n",
      "table_id = response['items'][0]['tableId']\n",
      "SQL_columns = \"(Title,Company,Location,State,Salary,Page,Category,Education)\""
     ],
     "language": "python",
     "metadata": {},
     "outputs": [],
     "prompt_number": 8
    },
    {
     "cell_type": "code",
     "collapsed": false,
     "input": [
      "print 'Start'\n",
      "print datetime.datetime.now()\n",
      "links = []\n",
      "for n in range (0,2):\n",
      "    edu = num_to_edu(n)\n",
      "    for m in range (0,14):\n",
      "        cat = num_to_cat(m) \n",
      "        for page in range(1,50):\n",
      "            link = (\"http://jobsearch.monster.com/search\"\n",
      "                + \"/%s_4?eid=%sl&pg=%s&salmin=30000&saltyp=1&nosal=false\"%(cat,edu,page))\n",
      "            links.append(link)\n",
      "            monster_link_to_fusion_table(service,link,cat,edu)\n",
      "print 'End'\n",
      "print datetime.datetime.now()"
     ],
     "language": "python",
     "metadata": {},
     "outputs": []
    },
    {
     "cell_type": "code",
     "collapsed": false,
     "input": [
      "link = links[0]\n",
      "page = urllib2.urlopen(link)\n",
      "value = page.read()\n",
      "soup = BeautifulSoup(value)"
     ],
     "language": "python",
     "metadata": {},
     "outputs": []
    },
    {
     "cell_type": "code",
     "collapsed": false,
     "input": [
      "list_soup = soup.find(class_='listingsTable')\n",
      "job_soup_array = remove_jobs_in_area_and_create_array(list_soup)"
     ],
     "language": "python",
     "metadata": {},
     "outputs": [],
     "prompt_number": 209
    },
    {
     "cell_type": "code",
     "collapsed": false,
     "input": [
      "for job_soup in job_soup_array:\n",
      "    single_job = get_job_data(job_soup)\n",
      "    if len(single_job['state'])>2:\n",
      "        test2 = single_job"
     ],
     "language": "python",
     "metadata": {},
     "outputs": [],
     "prompt_number": 217
    },
    {
     "cell_type": "code",
     "collapsed": false,
     "input": [
      "test2"
     ],
     "language": "python",
     "metadata": {},
     "outputs": [
      {
       "metadata": {},
       "output_type": "pyout",
       "prompt_number": 218,
       "text": [
        "{'category': 'Logistics/Transportation',\n",
        " 'company': 'Kinsa Group',\n",
        " 'education': 'Associates Degree',\n",
        " 'link': 'http://jobview.monster.com:80/Technical-Sales-Manager-Job-Crete-60417-143445338.aspx?jobPosition=12',\n",
        " 'location': 'Crete, 60417',\n",
        " 'salary_max': '0',\n",
        " 'salary_min': '0',\n",
        " 'state': '60417',\n",
        " 'title': 'Technical Sales Manager'}"
       ]
      }
     ],
     "prompt_number": 218
    },
    {
     "cell_type": "code",
     "collapsed": false,
     "input": [
      "monster_link_to_fusion_table(service,link)"
     ],
     "language": "python",
     "metadata": {},
     "outputs": [],
     "prompt_number": 203
    },
    {
     "cell_type": "code",
     "collapsed": true,
     "input": [
      "SQL_vals =\"('\"+str(single_job['title'])+\"','\"+str(single_job['company'])+\"','\"+str(single_job['location'])+\"','\"+str(single_job['salary_min'])+\"-\"+str(single_job['salary_max'])+\"','\"+str(single_job['link'])+\"','\"+str(single_job['category'])+\"')\""
     ],
     "language": "python",
     "metadata": {},
     "outputs": [],
     "prompt_number": 64
    },
    {
     "cell_type": "code",
     "collapsed": false,
     "input": [
      "client_id = cf['client_id']\n",
      "client_secret = cf['client_secret']\n",
      "api_key = cf['api_key']\n",
      "redirect_uri = cf['redirect_uri']\n",
      "scope = cf['scope']\n"
     ],
     "language": "python",
     "metadata": {},
     "outputs": [],
     "prompt_number": 10
    },
    {
     "cell_type": "code",
     "collapsed": false,
     "input": [
      "flow = OAuth2WebServerFlow(client_id=client_id,\n",
      "                           client_secret=client_secret,\n",
      "                           scope=scope,\n",
      "                           redirect_uri=redirect_uri)"
     ],
     "language": "python",
     "metadata": {},
     "outputs": [],
     "prompt_number": 11
    },
    {
     "cell_type": "code",
     "collapsed": false,
     "input": [
      "create_new_mapjobs_table('American Job Mapping')"
     ],
     "language": "python",
     "metadata": {},
     "outputs": [],
     "prompt_number": 19
    },
    {
     "cell_type": "code",
     "collapsed": false,
     "input": [
      "SQL_columns = \"(Title,Company,Location,Salary,Page,Category)\""
     ],
     "language": "python",
     "metadata": {},
     "outputs": [],
     "prompt_number": 58
    },
    {
     "cell_type": "code",
     "collapsed": false,
     "input": [
      "request = service.table().list()\n",
      "response = request.execute()\n",
      "table_id = response['items'][0]['tableId']\n",
      "print table_id"
     ],
     "language": "python",
     "metadata": {},
     "outputs": [
      {
       "output_type": "stream",
       "stream": "stdout",
       "text": [
        "1MHHDNJ3udVsxr7H2lE7eky3NqHB1MWKiqJY_plnW\n"
       ]
      }
     ],
     "prompt_number": 21
    },
    {
     "cell_type": "code",
     "collapsed": false,
     "input": [
      "sql_command = \"INSERT INTO \"+table_id+\" \"+SQL_columns+\" VALUES \"+SQL_vals+\";\"\n",
      "print sql_command"
     ],
     "language": "python",
     "metadata": {},
     "outputs": [
      {
       "output_type": "stream",
       "stream": "stdout",
       "text": [
        "INSERT INTO 12LywtPsvkm4kJ5glxUuT4ddQ-EciknqaYNdD4Tr1 (Title,Company,Location,Salary,Page,Category) VALUES ('Maintenance Supervisor','Johnson Matthey','West Chester, PA','None-None','http://jobview.monster.com:80/Maintenance-Supervisor-Job-West-Chester-PA-142800786.aspx?jobPosition=20','Logistics/Transportation');\n"
       ]
      }
     ],
     "prompt_number": 68
    },
    {
     "cell_type": "code",
     "collapsed": false,
     "input": [
      "request = service.query().sql(sql=sql_command)\n",
      "response = request.execute()"
     ],
     "language": "python",
     "metadata": {},
     "outputs": [],
     "prompt_number": 69
    },
    {
     "cell_type": "code",
     "collapsed": false,
     "input": [
      "SQL_columns = \"(Title,Company,Location,Salary,Page,Category)\"\n",
      "page = urllib2.urlopen(link)\n",
      "value = page.read()\n",
      "soup = BeautifulSoup(value)\n",
      "list_soup = soup.find(class_='listingsTable')\n",
      "job_soup_array = remove_jobs_in_area_and_create_array(list_soup)\n",
      "for job_soup in job_soup_array:\n",
      "    single_job = get_job_data(job_soup)\n",
      "    SQL_vals =\"('\"+str(single_job['title'])+\"','\"+str(single_job['company'])+\"','\"+str(single_job['location'])+\"','\"+str(single_job['salary_min'])+\"-\"+str(single_job['salary_max'])+\"','\"+str(single_job['link'])+\"','\"+str(single_job['category'])+\"')\"\n",
      "    sql_command = \"INSERT INTO \"+table_id+\" \"+SQL_columns+\" VALUES \"+SQL_vals+\";\"\n",
      "    request = service.query().sql(sql=sql_command)\n",
      "    response = request.execute()"
     ],
     "language": "python",
     "metadata": {},
     "outputs": [],
     "prompt_number": 26
    },
    {
     "cell_type": "code",
     "collapsed": false,
     "input": [],
     "language": "python",
     "metadata": {},
     "outputs": []
    },
    {
     "cell_type": "code",
     "collapsed": false,
     "input": [
      "#Step 1\n",
      "auth_uri = flow.step1_get_authorize_url()\n",
      "print auth_uri"
     ],
     "language": "python",
     "metadata": {},
     "outputs": [
      {
       "output_type": "stream",
       "stream": "stdout",
       "text": [
        "https://accounts.google.com/o/oauth2/auth?scope=https%3A%2F%2Fwww.googleapis.com%2Fauth%2Ffusiontables&redirect_uri=http%3A%2F%2Flocalhost&response_type=code&client_id=420304979532-g8gr00jqapdhuqu84mmb49uj9ngcgig9.apps.googleusercontent.com&access_type=offline\n"
       ]
      }
     ],
     "prompt_number": 39
    },
    {
     "cell_type": "code",
     "collapsed": false,
     "input": [
      "#Step 2\n",
      "code = '4/CEWtcdiXnnSz9dI3JLTSgYkW5pVzzwb3CWxCeLu3spA.otbMdj96JEIRJvIeHux6iLZhcir7lAI'\n",
      "credentials = flow.step2_exchange(code)\n",
      "http = httplib2.Http()\n",
      "http = credentials.authorize(http)\n",
      "service = build('fusiontables', 'v2',http=http)\n",
      "create_new_mapjobs_table(service,'American Job Mapping')\n",
      "request = service.table().list()\n",
      "response = request.execute()\n",
      "table_id = response['items'][0]['tableId']\n",
      "SQL_columns = \"(Title,Company,Location,Salary,Page,Category)\""
     ],
     "language": "python",
     "metadata": {},
     "outputs": [],
     "prompt_number": 40
    },
    {
     "cell_type": "code",
     "collapsed": false,
     "input": [
      "create_new_mapjobs_table(service,'American Job Mapping')"
     ],
     "language": "python",
     "metadata": {},
     "outputs": [],
     "prompt_number": 51
    },
    {
     "cell_type": "code",
     "collapsed": false,
     "input": [],
     "language": "python",
     "metadata": {},
     "outputs": [],
     "prompt_number": 15
    },
    {
     "cell_type": "code",
     "collapsed": false,
     "input": [
      "links = []\n",
      "for n in range (1,2):\n",
      "    edu = num_to_edu(n)\n",
      "    for m in range (7,14):\n",
      "        cat = num_to_cat(m) \n",
      "        for page in range(1,50):\n",
      "            links.append(\"http://jobsearch.monster.com/search\"\n",
      "                + \"/%s_4?eid=%sl&pg=%s&salmin=30000&saltyp=1&nosal=false\"%(cat,edu,page))"
     ],
     "language": "python",
     "metadata": {},
     "outputs": [],
     "prompt_number": 41
    },
    {
     "cell_type": "code",
     "collapsed": false,
     "input": [
      "link = links[2]\n",
      "print link"
     ],
     "language": "python",
     "metadata": {},
     "outputs": [
      {
       "output_type": "stream",
       "stream": "stdout",
       "text": [
        "http://jobsearch.monster.com/search/Logistics-Transportation_4?eid=Associate-Degreel&pg=3&salmin=30000&saltyp=1&nosal=false\n"
       ]
      }
     ],
     "prompt_number": 13
    },
    {
     "cell_type": "code",
     "collapsed": false,
     "input": [
      "page = urllib2.urlopen(link)\n",
      "value = page.read()\n",
      "soup = BeautifulSoup(value)\n",
      "list_soup = soup.find(class_='listingsTable')\n",
      "job_soup_array = remove_jobs_in_area_and_create_array(list_soup)\n",
      "for job_soup in job_soup_array:\n",
      "    single_job = get_job_data(job_soup)\n",
      "    SQL_vals =\"('\"+str(single_job['title'])+\"','\"+str(single_job['company'])+\"','\"+str(single_job['location'])+\"','\"+str(single_job['salary_min'])+\"-\"+str(single_job['salary_max'])+\"','\"+str(single_job['link'])+\"','\"+str(single_job['category'])+\"')\"\n",
      "    sql_command = \"INSERT INTO \"+table_id+\" \"+SQL_columns+\" VALUES \"+SQL_vals+\";\"\n",
      "    request = service.query().sql(sql=sql_command)\n",
      "    response = request.execute()"
     ],
     "language": "python",
     "metadata": {},
     "outputs": [],
     "prompt_number": 66
    },
    {
     "cell_type": "code",
     "collapsed": false,
     "input": [
      "monster_link_to_fusion_table(service,link)"
     ],
     "language": "python",
     "metadata": {},
     "outputs": [
      {
       "ename": "NameError",
       "evalue": "name 'service' is not defined",
       "output_type": "pyerr",
       "traceback": [
        "\u001b[1;31m---------------------------------------------------------------------------\u001b[0m\n\u001b[1;31mNameError\u001b[0m                                 Traceback (most recent call last)",
        "\u001b[1;32m<ipython-input-16-061d22bf4a7d>\u001b[0m in \u001b[0;36m<module>\u001b[1;34m()\u001b[0m\n\u001b[1;32m----> 1\u001b[1;33m \u001b[0mmonster_link_to_fusion_table\u001b[0m\u001b[1;33m(\u001b[0m\u001b[0mservice\u001b[0m\u001b[1;33m,\u001b[0m\u001b[0mlink\u001b[0m\u001b[1;33m)\u001b[0m\u001b[1;33m\u001b[0m\u001b[0m\n\u001b[0m",
        "\u001b[1;31mNameError\u001b[0m: name 'service' is not defined"
       ]
      }
     ],
     "prompt_number": 16
    },
    {
     "cell_type": "code",
     "collapsed": false,
     "input": [
      "for n in range (1,2):\n",
      "    edu = num_to_edu(n)\n",
      "    for m in range (7,14):\n",
      "        cat = num_to_cat(m) \n",
      "        for page in range(1,50):\n",
      "            link = (\"http://jobsearch.monster.com/search\"\n",
      "                + \"/%s_4?eid=%sl&pg=%s&salmin=30000&saltyp=1&nosal=false\"%(cat,edu,page))\n",
      "            monster_link_to_fusion_table(service,link)"
     ],
     "language": "python",
     "metadata": {},
     "outputs": [
      {
       "ename": "HttpError",
       "evalue": "<HttpError 403 when requesting https://www.googleapis.com/fusiontables/v2/query?alt=json&sql=INSERT+INTO+1v9EJjcWGEwGBcYUPpLdLFgS16EjvtNDFpSOtji4P+%28Title%2CCompany%2CLocation%2CSalary%2CPage%2CCategory%29+VALUES+%28%27Senior+Database+Administrator%27%2C%27Ricoh+USA%2C+Inc.%27%2C%27MALVERN%2C+PA%27%2C%27None-None%27%2C%27http%3A%2F%2Fjobview.monster.com%3A80%2FSenior-Database-Administrator-Job-MALVERN-PA-143952510.aspx%3FjobPosition%3D11%27%2C%27Logistics%2FTransportation%27%29%3B returned \"Rate Limit Exceeded\">",
       "output_type": "pyerr",
       "traceback": [
        "\u001b[1;31m---------------------------------------------------------------------------\u001b[0m\n\u001b[1;31mHttpError\u001b[0m                                 Traceback (most recent call last)",
        "\u001b[1;32m<ipython-input-37-0efde1011423>\u001b[0m in \u001b[0;36m<module>\u001b[1;34m()\u001b[0m\n\u001b[0;32m      6\u001b[0m             link = (\"http://jobsearch.monster.com/search\"\n\u001b[0;32m      7\u001b[0m                 + \"/%s_4?eid=%sl&pg=%s&salmin=30000&saltyp=1&nosal=false\"%(cat,edu,page))\n\u001b[1;32m----> 8\u001b[1;33m             \u001b[0mmonster_link_to_fusion_table\u001b[0m\u001b[1;33m(\u001b[0m\u001b[0mservice\u001b[0m\u001b[1;33m,\u001b[0m\u001b[0mlink\u001b[0m\u001b[1;33m)\u001b[0m\u001b[1;33m\u001b[0m\u001b[0m\n\u001b[0m",
        "\u001b[1;32m<ipython-input-36-36d514cfcf6c>\u001b[0m in \u001b[0;36mmonster_link_to_fusion_table\u001b[1;34m(service, link)\u001b[0m\n\u001b[0;32m     22\u001b[0m         \u001b[0msql_command\u001b[0m \u001b[1;33m=\u001b[0m \u001b[1;34m\"INSERT INTO \"\u001b[0m\u001b[1;33m+\u001b[0m\u001b[0mtable_id\u001b[0m\u001b[1;33m+\u001b[0m\u001b[1;34m\" \"\u001b[0m\u001b[1;33m+\u001b[0m\u001b[0mSQL_columns\u001b[0m\u001b[1;33m+\u001b[0m\u001b[1;34m\" VALUES \"\u001b[0m\u001b[1;33m+\u001b[0m\u001b[0mSQL_vals\u001b[0m\u001b[1;33m+\u001b[0m\u001b[1;34m\";\"\u001b[0m\u001b[1;33m\u001b[0m\u001b[0m\n\u001b[0;32m     23\u001b[0m         \u001b[0mrequest\u001b[0m \u001b[1;33m=\u001b[0m \u001b[0mservice\u001b[0m\u001b[1;33m.\u001b[0m\u001b[0mquery\u001b[0m\u001b[1;33m(\u001b[0m\u001b[1;33m)\u001b[0m\u001b[1;33m.\u001b[0m\u001b[0msql\u001b[0m\u001b[1;33m(\u001b[0m\u001b[0msql\u001b[0m\u001b[1;33m=\u001b[0m\u001b[0msql_command\u001b[0m\u001b[1;33m)\u001b[0m\u001b[1;33m\u001b[0m\u001b[0m\n\u001b[1;32m---> 24\u001b[1;33m         \u001b[0mresponse\u001b[0m \u001b[1;33m=\u001b[0m \u001b[0mrequest\u001b[0m\u001b[1;33m.\u001b[0m\u001b[0mexecute\u001b[0m\u001b[1;33m(\u001b[0m\u001b[1;33m)\u001b[0m\u001b[1;33m\u001b[0m\u001b[0m\n\u001b[0m",
        "\u001b[1;32m/usr/local/lib/python2.7/dist-packages/oauth2client/util.pyc\u001b[0m in \u001b[0;36mpositional_wrapper\u001b[1;34m(*args, **kwargs)\u001b[0m\n\u001b[0;32m    133\u001b[0m         \u001b[1;32melse\u001b[0m\u001b[1;33m:\u001b[0m \u001b[1;31m# IGNORE\u001b[0m\u001b[1;33m\u001b[0m\u001b[0m\n\u001b[0;32m    134\u001b[0m           \u001b[1;32mpass\u001b[0m\u001b[1;33m\u001b[0m\u001b[0m\n\u001b[1;32m--> 135\u001b[1;33m       \u001b[1;32mreturn\u001b[0m \u001b[0mwrapped\u001b[0m\u001b[1;33m(\u001b[0m\u001b[1;33m*\u001b[0m\u001b[0margs\u001b[0m\u001b[1;33m,\u001b[0m \u001b[1;33m**\u001b[0m\u001b[0mkwargs\u001b[0m\u001b[1;33m)\u001b[0m\u001b[1;33m\u001b[0m\u001b[0m\n\u001b[0m\u001b[0;32m    136\u001b[0m     \u001b[1;32mreturn\u001b[0m \u001b[0mpositional_wrapper\u001b[0m\u001b[1;33m\u001b[0m\u001b[0m\n\u001b[0;32m    137\u001b[0m \u001b[1;33m\u001b[0m\u001b[0m\n",
        "\u001b[1;32m/usr/local/lib/python2.7/dist-packages/googleapiclient/http.pyc\u001b[0m in \u001b[0;36mexecute\u001b[1;34m(self, http, num_retries)\u001b[0m\n\u001b[0;32m    721\u001b[0m       \u001b[0mcallback\u001b[0m\u001b[1;33m(\u001b[0m\u001b[0mresp\u001b[0m\u001b[1;33m)\u001b[0m\u001b[1;33m\u001b[0m\u001b[0m\n\u001b[0;32m    722\u001b[0m     \u001b[1;32mif\u001b[0m \u001b[0mresp\u001b[0m\u001b[1;33m.\u001b[0m\u001b[0mstatus\u001b[0m \u001b[1;33m>=\u001b[0m \u001b[1;36m300\u001b[0m\u001b[1;33m:\u001b[0m\u001b[1;33m\u001b[0m\u001b[0m\n\u001b[1;32m--> 723\u001b[1;33m       \u001b[1;32mraise\u001b[0m \u001b[0mHttpError\u001b[0m\u001b[1;33m(\u001b[0m\u001b[0mresp\u001b[0m\u001b[1;33m,\u001b[0m \u001b[0mcontent\u001b[0m\u001b[1;33m,\u001b[0m \u001b[0muri\u001b[0m\u001b[1;33m=\u001b[0m\u001b[0mself\u001b[0m\u001b[1;33m.\u001b[0m\u001b[0muri\u001b[0m\u001b[1;33m)\u001b[0m\u001b[1;33m\u001b[0m\u001b[0m\n\u001b[0m\u001b[0;32m    724\u001b[0m     \u001b[1;32mreturn\u001b[0m \u001b[0mself\u001b[0m\u001b[1;33m.\u001b[0m\u001b[0mpostproc\u001b[0m\u001b[1;33m(\u001b[0m\u001b[0mresp\u001b[0m\u001b[1;33m,\u001b[0m \u001b[0mcontent\u001b[0m\u001b[1;33m)\u001b[0m\u001b[1;33m\u001b[0m\u001b[0m\n\u001b[0;32m    725\u001b[0m \u001b[1;33m\u001b[0m\u001b[0m\n",
        "\u001b[1;31mHttpError\u001b[0m: <HttpError 403 when requesting https://www.googleapis.com/fusiontables/v2/query?alt=json&sql=INSERT+INTO+1v9EJjcWGEwGBcYUPpLdLFgS16EjvtNDFpSOtji4P+%28Title%2CCompany%2CLocation%2CSalary%2CPage%2CCategory%29+VALUES+%28%27Senior+Database+Administrator%27%2C%27Ricoh+USA%2C+Inc.%27%2C%27MALVERN%2C+PA%27%2C%27None-None%27%2C%27http%3A%2F%2Fjobview.monster.com%3A80%2FSenior-Database-Administrator-Job-MALVERN-PA-143952510.aspx%3FjobPosition%3D11%27%2C%27Logistics%2FTransportation%27%29%3B returned \"Rate Limit Exceeded\">"
       ]
      }
     ],
     "prompt_number": 37
    },
    {
     "cell_type": "code",
     "collapsed": false,
     "input": [],
     "language": "python",
     "metadata": {},
     "outputs": []
    }
   ],
   "metadata": {}
  }
 ]
}